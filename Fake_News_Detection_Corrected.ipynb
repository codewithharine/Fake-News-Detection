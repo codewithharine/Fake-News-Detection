{
 "cells": [
  {
   "cell_type": "markdown",
   "id": "70232d65",
   "metadata": {},
   "source": [
    "# 📰 Fake News Detection using NLP & Machine Learning\n",
    "A beginner-friendly ML project to classify news articles as real or fake using Python and scikit-learn."
   ]
  },
  {
   "cell_type": "code",
   "execution_count": null,
   "id": "4a4c8c79",
   "metadata": {},
   "outputs": [],
   "source": [
    "# ✅ Import Libraries\n",
    "import pandas as pd\n",
    "import numpy as np\n",
    "import matplotlib.pyplot as plt\n",
    "import seaborn as sns\n",
    "from sklearn.model_selection import train_test_split\n",
    "from sklearn.feature_extraction.text import TfidfVectorizer\n",
    "from sklearn.linear_model import LogisticRegression\n",
    "from sklearn.metrics import accuracy_score, confusion_matrix, classification_report"
   ]
  },
  {
   "cell_type": "code",
   "execution_count": null,
   "id": "f414a0cd",
   "metadata": {},
   "outputs": [],
   "source": [
    "# ✅ Load Dataset\n",
    "# Make sure you have 'Fake.csv' and 'True.csv' in the same directory\n",
    "fake = pd.read_csv(\"Fake.csv\")\n",
    "true = pd.read_csv(\"True.csv\")\n",
    "\n",
    "# Label the data\n",
    "fake['label'] = 0\n",
    "true['label'] = 1\n",
    "\n",
    "# Combine and shuffle\n",
    "data = pd.concat([fake, true], ignore_index=True)\n",
    "data = data.sample(frac=1).reset_index(drop=True)\n",
    "\n",
    "# Use only text and label\n",
    "data = data[['text', 'label']]\n",
    "data.head()"
   ]
  },
  {
   "cell_type": "code",
   "execution_count": null,
   "id": "eb138c66",
   "metadata": {},
   "outputs": [],
   "source": [
    "# ✅ Split Data\n",
    "X_train, X_test, y_train, y_test = train_test_split(\n",
    "    data['text'], data['label'], test_size=0.2, random_state=42\n",
    ")"
   ]
  },
  {
   "cell_type": "code",
   "execution_count": null,
   "id": "b9763f0d",
   "metadata": {},
   "outputs": [],
   "source": [
    "# ✅ Text Vectorization\n",
    "vectorizer = TfidfVectorizer(stop_words='english', max_df=0.7)\n",
    "X_train_vec = vectorizer.fit_transform(X_train)\n",
    "X_test_vec = vectorizer.transform(X_test)"
   ]
  },
  {
   "cell_type": "code",
   "execution_count": null,
   "id": "d4ba6dfa",
   "metadata": {},
   "outputs": [],
   "source": [
    "# ✅ Train Model\n",
    "model = LogisticRegression()\n",
    "model.fit(X_train_vec, y_train)"
   ]
  },
  {
   "cell_type": "code",
   "execution_count": null,
   "id": "329aaa9f",
   "metadata": {},
   "outputs": [],
   "source": [
    "# ✅ Evaluate Model\n",
    "y_pred = model.predict(X_test_vec)\n",
    "print(\"Accuracy:\", accuracy_score(y_test, y_pred))\n",
    "print(\"\\nClassification Report:\\n\", classification_report(y_test, y_pred))\n",
    "\n",
    "# Confusion Matrix\n",
    "cm = confusion_matrix(y_test, y_pred)\n",
    "sns.heatmap(cm, annot=True, fmt='d')\n",
    "plt.xlabel(\"Predicted\")\n",
    "plt.ylabel(\"Actual\")\n",
    "plt.title(\"Confusion Matrix\")\n",
    "plt.show()"
   ]
  },
  {
   "cell_type": "code",
   "execution_count": null,
   "id": "9b6c5ce5",
   "metadata": {},
   "outputs": [],
   "source": [
    "# ✅ Predict on New Article\n",
    "def predict_news(news_text):\n",
    "    vec = vectorizer.transform([news_text])\n",
    "    pred = model.predict(vec)\n",
    "    return \"Real News\" if pred[0] == 1 else \"Fake News\"\n",
    "\n",
    "# Try a sample\n",
    "print(predict_news(\"The government has declared a new lockdown starting Monday.\"))"
   ]
  }
 ],
 "metadata": {
  "kernelspec": {
   "display_name": "Python 3",
   "name": "python3"
  }
 },
 "nbformat": 4,
 "nbformat_minor": 5
}
